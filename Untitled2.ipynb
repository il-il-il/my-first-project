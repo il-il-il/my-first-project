{
 "cells": [
  {
   "cell_type": "code",
   "execution_count": null,
   "id": "97dd98e8-9764-4de9-9c89-e0a8fe5ba3ce",
   "metadata": {},
   "outputs": [],
   "source": []
  }
 ],
 "metadata": {
  "kernelspec": {
   "display_name": "",
   "name": ""
  },
  "language_info": {
   "name": ""
  }
 },
 "nbformat": 4,
 "nbformat_minor": 5
}
